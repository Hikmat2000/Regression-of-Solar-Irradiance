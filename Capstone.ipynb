{
 "cells": [
  {
   "cell_type": "code",
   "execution_count": 1,
   "id": "30088813-8963-4b1b-b005-dbaf36b17306",
   "metadata": {},
   "outputs": [],
   "source": [
    "import pandas as pd\n",
    "import matplotlib.pyplot as plt\n",
    "import numpy as np\n",
    "import os\n",
    "import tensorflow as tf\n",
    "from tensorflow.python.keras.callbacks import TensorBoard, ReduceLROnPlateau, EarlyStopping\n",
    "import sklearn\n",
    "from numpy import mean\n",
    "from numpy import std\n",
    "import random as python_random\n",
    "from sklearn.model_selection import train_test_split\n",
    "from sklearn.linear_model import LinearRegression\n",
    "import seaborn as sns\n",
    "from keras.constraints import maxnorm\n",
    "from sklearn.preprocessing import MinMaxScaler\n",
    "from sklearn.model_selection import cross_val_score\n",
    "from sklearn.model_selection import GridSearchCV\n",
    "from keras.models import Sequential\n",
    "from sklearn.linear_model import LinearRegression\n",
    "from sklearn.metrics import mean_squared_error\n",
    "from keras.layers import Dense, Dropout\n",
    "from time import time"
   ]
  },
  {
   "cell_type": "code",
   "execution_count": null,
   "id": "998a5794",
   "metadata": {},
   "outputs": [],
   "source": [
    "df = pd.read_csv('/content/train.csv',low_memory=False,delimiter=',', header=None\n",
    "                  ,skiprows=1, names=['Year','Month','Day','Hour','Minute','Clearsky DHI','Clearsky DNI','Clearsky GHI','Cloud Type','Dew Point','Temperature','Pressure','Relative Humidity',\n",
    "       'Solar Zenith Angle','Precipitable Water','Wind Direction','Wind Speed','Fill Flag'])"
   ]
  },
  {
   "cell_type": "code",
   "execution_count": null,
   "id": "64a309c6",
   "metadata": {},
   "outputs": [],
   "source": [
    "sns.relplot(x='Clearsky DHI',y='Temperature',hue='Wind Speed',data=df)\n",
    "sns.relplot(x='Clearsky DNI',y='Temperature',hue='Wind Speed',data=df)\n",
    "sns.relplot(x='Clearsky GHI',y='Temperature',hue='Wind Speed',data=df)"
   ]
  },
  {
   "cell_type": "code",
   "execution_count": null,
   "id": "26d7642c",
   "metadata": {},
   "outputs": [],
   "source": [
    "sns.catplot(x='Clearsky GHI',kind='box',data=df)"
   ]
  },
  {
   "cell_type": "code",
   "execution_count": null,
   "id": "46e31843",
   "metadata": {},
   "outputs": [],
   "source": [
    "sns.heatmap(df.corr(),vmin=-1,vmax=1,cmap=\"Blues\")"
   ]
  },
  {
   "cell_type": "code",
   "execution_count": null,
   "id": "e4b1034e",
   "metadata": {},
   "outputs": [],
   "source": [
    "seed_value=12321\n",
    "np.random.seed(seed_value)\n",
    "Name='neural_network-{}'.format(int(time()))\n",
    "tensorboard = TensorBoard(log_dir='logs/{}'.format(Name))\n",
    "reduce_lr=ReduceLROnPlateau(monitor='val_loss',factor=0.2,patience=0.5,min_lr=0.001)\n",
    "es=EarlyStopping(monitor='val_loss',patience=25,verbose=2)\n",
    "\n",
    "X = df[['Year','Month','Day','Hour','Minute','Cloud Type','Dew Point','Temperature','Pressure','Relative Humidity',\n",
    "       'Solar Zenith Angle','Precipitable Water','Wind Direction','Wind Speed','Fill Flag']]\n",
    "y = df[['Clearsky DHI','Clearsky DNI','Clearsky GHI']]"
   ]
  },
  {
   "cell_type": "code",
   "execution_count": null,
   "id": "0257b858",
   "metadata": {},
   "outputs": [],
   "source": [
    "# Visualizing the data\n",
    "print(X.info())\n",
    "print(y.info())"
   ]
  },
  {
   "cell_type": "code",
   "execution_count": null,
   "id": "78640746",
   "metadata": {},
   "outputs": [],
   "source": [
    "# Delete all the rows that have null values if the all the values were null in that specific row\n",
    "X.dropna(axis='index', how='all')\n",
    "X"
   ]
  },
  {
   "cell_type": "code",
   "execution_count": null,
   "id": "99c2c8ec",
   "metadata": {},
   "outputs": [],
   "source": [
    "##### split data\n",
    "x_train, x_test, y_train, y_test = train_test_split(X, y,#splits data into train and test sets\n",
    "    train_size=0.8,test_size=0.2,random_state=42)\n",
    "    \n",
    "x_train, x_val, y_train, y_val = train_test_split(x_train, y_train, #splits data in training set into val set\n",
    "test_size=0.25,train_size=0.75,random_state=42)\n",
    "print(x_train.shape,y_train.shape)\n",
    "print(x_test.shape,y_test.shape)\n",
    "print(x_val.shape,y_val.shape)"
   ]
  },
  {
   "cell_type": "code",
   "execution_count": null,
   "id": "cc8e1812",
   "metadata": {},
   "outputs": [],
   "source": [
    "# Normalize the data\n",
    "scaler=MinMaxScaler()\n",
    "scaler.fit(x_train)\n",
    "x_train=scaler.transform(x_train)\n",
    "x_val=scaler.transform(x_val)\n",
    "x_test=scaler.transform(x_test)\n",
    "\n",
    "print(x_train)\n",
    "print(x_val)"
   ]
  },
  {
   "cell_type": "code",
   "execution_count": null,
   "id": "9284f8a3",
   "metadata": {},
   "outputs": [],
   "source": [
    "model=Sequential()\n",
    "model.add(Dense(128,input_dim=15,kernel_initializer='he_uniform',activation='relu'))\n",
    "model.add(Dense(128,activation='relu'))\n",
    "model.add(Dense(64,activation='relu'))\n",
    "model.add(Dense(64,activation='relu'))\n",
    "model.add(Dense(32,activation='relu'))\n",
    "model.add(Dense(3))\n",
    "model.compile(loss='mean_squared_error',optimizer='adam',metrics=['accuracy'])\n"
   ]
  },
  {
   "cell_type": "code",
   "execution_count": null,
   "id": "7dda91c2",
   "metadata": {},
   "outputs": [],
   "source": [
    "history=model.fit(x_train,y_train,epochs=500,batch_size=64,validation_data=[x_val,y_val],\n",
    "                  callbacks=[tensorboard,es],verbose=2)"
   ]
  },
  {
   "cell_type": "code",
   "execution_count": null,
   "id": "7e284a2e",
   "metadata": {},
   "outputs": [],
   "source": [
    "#####loss plot\n",
    "plt.plot(history.history['loss'])\n",
    "plt.plot(history.history['val_loss'])\n",
    "plt.title('model loss')\n",
    "plt.ylabel('loss')\n",
    "plt.xlabel('epoch')\n",
    "plt.legend(['train', 'val'], loc='upper right')\n",
    "plt.show()\n",
    "\n",
    "#####accuracy plot\n",
    "plt.plot(history.history['accuracy'])\n",
    "plt.plot(history.history['val_accuracy'])\n",
    "plt.title('model accuracy')\n",
    "plt.ylabel('accuracy')\n",
    "plt.xlabel('epoch')\n",
    "plt.legend(['train', 'val'], loc='upper right')\n",
    "plt.show()"
   ]
  },
  {
   "cell_type": "code",
   "execution_count": null,
   "id": "7465fc1d",
   "metadata": {},
   "outputs": [],
   "source": [
    "results=model.evaluate(x_test,y_test,batch_size=128)\n",
    "print(\"test loss, test acc:\", results)"
   ]
  }
 ],
 "metadata": {
  "kernelspec": {
   "display_name": "Python 3 (ipykernel)",
   "language": "python",
   "name": "python3"
  },
  "language_info": {
   "codemirror_mode": {
    "name": "ipython",
    "version": 3
   },
   "file_extension": ".py",
   "mimetype": "text/x-python",
   "name": "python",
   "nbconvert_exporter": "python",
   "pygments_lexer": "ipython3",
   "version": "3.8.3"
  }
 },
 "nbformat": 4,
 "nbformat_minor": 5
}
